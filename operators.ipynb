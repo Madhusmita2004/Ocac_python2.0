{
 "cells": [
  {
   "cell_type": "code",
   "execution_count": 1,
   "id": "e6c865f2-f75c-4a1a-91e5-4bd0c6071d9b",
   "metadata": {},
   "outputs": [
    {
     "data": {
      "text/plain": [
       "13"
      ]
     },
     "execution_count": 1,
     "metadata": {},
     "output_type": "execute_result"
    }
   ],
   "source": [
    "#addition\n",
    "6+7"
   ]
  },
  {
   "cell_type": "code",
   "execution_count": 2,
   "id": "10f25719-145a-4a23-994f-0b8b3a4f4f6d",
   "metadata": {},
   "outputs": [
    {
     "data": {
      "text/plain": [
       "4"
      ]
     },
     "execution_count": 2,
     "metadata": {},
     "output_type": "execute_result"
    }
   ],
   "source": [
    "#substraction\n",
    "8-4"
   ]
  },
  {
   "cell_type": "code",
   "execution_count": 3,
   "id": "63a465cb-572d-48ee-a8db-0828fcea34d2",
   "metadata": {},
   "outputs": [
    {
     "data": {
      "text/plain": [
       "2.0"
      ]
     },
     "execution_count": 3,
     "metadata": {},
     "output_type": "execute_result"
    }
   ],
   "source": [
    "#division\n",
    "8/4"
   ]
  },
  {
   "cell_type": "code",
   "execution_count": 4,
   "id": "d98b9bba-a109-4fde-9fd2-0f95ad0f71c7",
   "metadata": {},
   "outputs": [
    {
     "data": {
      "text/plain": [
       "60"
      ]
     },
     "execution_count": 4,
     "metadata": {},
     "output_type": "execute_result"
    }
   ],
   "source": [
    "#multiplication\n",
    "15*4"
   ]
  },
  {
   "cell_type": "code",
   "execution_count": 5,
   "id": "c2ff342f-c28f-4765-8eac-dfbece03fd28",
   "metadata": {},
   "outputs": [
    {
     "data": {
      "text/plain": [
       "100"
      ]
     },
     "execution_count": 5,
     "metadata": {},
     "output_type": "execute_result"
    }
   ],
   "source": [
    "#power/exponent\n",
    "10**2"
   ]
  },
  {
   "cell_type": "code",
   "execution_count": 6,
   "id": "5c0d2b0c-0b8c-4dbe-be26-e3afab06e974",
   "metadata": {},
   "outputs": [
    {
     "data": {
      "text/plain": [
       "3.3333333333333335"
      ]
     },
     "execution_count": 6,
     "metadata": {},
     "output_type": "execute_result"
    }
   ],
   "source": [
    "#floor division\n",
    "10//3"
   ]
  },
  {
   "cell_type": "code",
   "execution_count": 7,
   "id": "a3aba445-30c3-4cbb-863b-a46942792082",
   "metadata": {},
   "outputs": [
    {
     "data": {
      "text/plain": [
       "1"
      ]
     },
     "execution_count": 7,
     "metadata": {},
     "output_type": "execute_result"
    }
   ],
   "source": [
    "#modulo--->remainder\n",
    "10%3"
   ]
  },
  {
   "cell_type": "code",
   "execution_count": 8,
   "id": "c4a220e4-70cd-475b-8745-0528f6db4bc8",
   "metadata": {},
   "outputs": [
    {
     "data": {
      "text/plain": [
       "50"
      ]
     },
     "execution_count": 8,
     "metadata": {},
     "output_type": "execute_result"
    }
   ],
   "source": [
    "#paranthesis\n",
    "(2+3)*(5+5)"
   ]
  },
  {
   "cell_type": "code",
   "execution_count": 10,
   "id": "32758a64-f88d-4fa7-8f93-f953005dfd41",
   "metadata": {},
   "outputs": [
    {
     "data": {
      "text/plain": [
       "10.0"
      ]
     },
     "execution_count": 10,
     "metadata": {},
     "output_type": "execute_result"
    }
   ],
   "source": [
    "#arithmetic operators precedence\n",
    "a=10\n",
    "b=20\n",
    "a-b*a/b+a  #BODMAS"
   ]
  },
  {
   "cell_type": "code",
   "execution_count": 11,
   "id": "18d88761-c546-4e73-ad9d-b9df2e0ffd24",
   "metadata": {},
   "outputs": [
    {
     "data": {
      "text/plain": [
       "16"
      ]
     },
     "execution_count": 11,
     "metadata": {},
     "output_type": "execute_result"
    }
   ],
   "source": [
    "(2*(2+6))"
   ]
  },
  {
   "cell_type": "code",
   "execution_count": 12,
   "id": "a0566a44-22f4-4142-9524-5fe6701961a7",
   "metadata": {},
   "outputs": [
    {
     "data": {
      "text/plain": [
       "7"
      ]
     },
     "execution_count": 12,
     "metadata": {},
     "output_type": "execute_result"
    }
   ],
   "source": [
    "8//6%5+2**3-2"
   ]
  },
  {
   "cell_type": "code",
   "execution_count": 13,
   "id": "4bae6400-a779-4e58-b6d4-a527aaa29bb2",
   "metadata": {},
   "outputs": [
    {
     "data": {
      "text/plain": [
       "True"
      ]
     },
     "execution_count": 13,
     "metadata": {},
     "output_type": "execute_result"
    }
   ],
   "source": [
    "#comparison/relational operators\n",
    "#greater than\n",
    "45>34"
   ]
  },
  {
   "cell_type": "code",
   "execution_count": 14,
   "id": "7cc48b0a-d7d1-4774-9cf1-8dd3e0e9cd94",
   "metadata": {},
   "outputs": [
    {
     "data": {
      "text/plain": [
       "True"
      ]
     },
     "execution_count": 14,
     "metadata": {},
     "output_type": "execute_result"
    }
   ],
   "source": [
    "56>23"
   ]
  },
  {
   "cell_type": "code",
   "execution_count": 15,
   "id": "6d40b7a9-0eff-4bbc-a789-92f821a0b837",
   "metadata": {},
   "outputs": [
    {
     "data": {
      "text/plain": [
       "False"
      ]
     },
     "execution_count": 15,
     "metadata": {},
     "output_type": "execute_result"
    }
   ],
   "source": [
    "3*3<4*2"
   ]
  },
  {
   "cell_type": "code",
   "execution_count": 16,
   "id": "32bc276d-3131-4014-8c24-8e8d9c53e71a",
   "metadata": {},
   "outputs": [
    {
     "data": {
      "text/plain": [
       "False"
      ]
     },
     "execution_count": 16,
     "metadata": {},
     "output_type": "execute_result"
    }
   ],
   "source": [
    "43==32"
   ]
  },
  {
   "cell_type": "code",
   "execution_count": 17,
   "id": "3a6d2e77-fe5f-4763-a8c7-430648a65f7c",
   "metadata": {},
   "outputs": [
    {
     "data": {
      "text/plain": [
       "False"
      ]
     },
     "execution_count": 17,
     "metadata": {},
     "output_type": "execute_result"
    }
   ],
   "source": [
    "4!=4"
   ]
  },
  {
   "cell_type": "code",
   "execution_count": 18,
   "id": "c5274198-ecf3-44eb-b8f5-1ad47d2dd8d7",
   "metadata": {},
   "outputs": [
    {
     "data": {
      "text/plain": [
       "'0b1100100'"
      ]
     },
     "execution_count": 18,
     "metadata": {},
     "output_type": "execute_result"
    }
   ],
   "source": [
    "#bitwise operators\n",
    "bin(100)"
   ]
  },
  {
   "cell_type": "code",
   "execution_count": 19,
   "id": "686b80a4-3e26-4927-9ad6-9b01fa4e4fa0",
   "metadata": {},
   "outputs": [
    {
     "data": {
      "text/plain": [
       "100"
      ]
     },
     "execution_count": 19,
     "metadata": {},
     "output_type": "execute_result"
    }
   ],
   "source": [
    "0b1100100"
   ]
  },
  {
   "cell_type": "code",
   "execution_count": 21,
   "id": "1e19a7af-8c4b-459d-9ebe-ce55376d711a",
   "metadata": {},
   "outputs": [
    {
     "name": "stdout",
     "output_type": "stream",
     "text": [
      "7\n"
     ]
    }
   ],
   "source": [
    "a=5\n",
    "b=7\n",
    "print(a|b)"
   ]
  },
  {
   "cell_type": "code",
   "execution_count": 22,
   "id": "acba50a0-bd32-4109-85af-ae8bbe1525d5",
   "metadata": {},
   "outputs": [
    {
     "data": {
      "text/plain": [
       "True"
      ]
     },
     "execution_count": 22,
     "metadata": {},
     "output_type": "execute_result"
    }
   ],
   "source": [
    "#logical operators\n",
    "(1>2)or(2<3)"
   ]
  },
  {
   "cell_type": "code",
   "execution_count": 23,
   "id": "8cf7f294-50b2-4a97-8056-663184fc4ff1",
   "metadata": {},
   "outputs": [
    {
     "data": {
      "text/plain": [
       "False"
      ]
     },
     "execution_count": 23,
     "metadata": {},
     "output_type": "execute_result"
    }
   ],
   "source": [
    "not True"
   ]
  },
  {
   "cell_type": "code",
   "execution_count": 26,
   "id": "979644db-fbf7-4c7c-9efb-0dbbdc80a41b",
   "metadata": {},
   "outputs": [
    {
     "data": {
      "text/plain": [
       "True"
      ]
     },
     "execution_count": 26,
     "metadata": {},
     "output_type": "execute_result"
    }
   ],
   "source": [
    "my_str='sambit'\n",
    "my_str.isalpha() or str_example.isnum()"
   ]
  },
  {
   "cell_type": "code",
   "execution_count": 27,
   "id": "147ab681-190e-4b29-9a60-abeb05bfe386",
   "metadata": {},
   "outputs": [
    {
     "data": {
      "text/plain": [
       "10"
      ]
     },
     "execution_count": 27,
     "metadata": {},
     "output_type": "execute_result"
    }
   ],
   "source": [
    "#assignment operator\n",
    "a=10\n",
    "a"
   ]
  },
  {
   "cell_type": "code",
   "execution_count": 28,
   "id": "bebe63c7-5f45-4c17-9917-a084c3e1fe28",
   "metadata": {},
   "outputs": [
    {
     "name": "stdout",
     "output_type": "stream",
     "text": [
      "11\n"
     ]
    }
   ],
   "source": [
    "a=a+1\n",
    "print(a)"
   ]
  },
  {
   "cell_type": "code",
   "execution_count": 29,
   "id": "4158464d-3131-4fdf-8572-5c2ab864d7ac",
   "metadata": {},
   "outputs": [
    {
     "name": "stdout",
     "output_type": "stream",
     "text": [
      "12\n"
     ]
    }
   ],
   "source": [
    "a+=1\n",
    "print(a)"
   ]
  },
  {
   "cell_type": "code",
   "execution_count": 30,
   "id": "9fd34c4a-877d-44a8-bd56-36cd64e6504b",
   "metadata": {},
   "outputs": [
    {
     "name": "stdout",
     "output_type": "stream",
     "text": [
      "True\n"
     ]
    }
   ],
   "source": [
    "#identity operators\n",
    "a=10\n",
    "b=10\n",
    "print(a is b)"
   ]
  },
  {
   "cell_type": "code",
   "execution_count": 31,
   "id": "6eec88f1-a28b-41ee-90b7-f4e982659d8c",
   "metadata": {},
   "outputs": [
    {
     "data": {
      "text/plain": [
       "True"
      ]
     },
     "execution_count": 31,
     "metadata": {},
     "output_type": "execute_result"
    }
   ],
   "source": [
    "a=6\n",
    "b=8\n",
    "a is not b"
   ]
  },
  {
   "cell_type": "code",
   "execution_count": 32,
   "id": "d3d95b16-dd5c-4df5-8404-0eb65d6bb4c3",
   "metadata": {},
   "outputs": [
    {
     "data": {
      "text/plain": [
       "False"
      ]
     },
     "execution_count": 32,
     "metadata": {},
     "output_type": "execute_result"
    }
   ],
   "source": [
    "#membership operator\n",
    "a='madhusmita'\n",
    "'esh' in a"
   ]
  },
  {
   "cell_type": "code",
   "execution_count": 34,
   "id": "112b3fe1-a40f-4143-98bb-6c4a74af8db1",
   "metadata": {},
   "outputs": [
    {
     "data": {
      "text/plain": [
       "True"
      ]
     },
     "execution_count": 34,
     "metadata": {},
     "output_type": "execute_result"
    }
   ],
   "source": [
    "lst=[1,2,3,4,5,6,7]\n",
    "6 in lst\n"
   ]
  },
  {
   "cell_type": "code",
   "execution_count": 35,
   "id": "3e2fb591-1594-41ef-9650-eba1b594a346",
   "metadata": {},
   "outputs": [
    {
     "data": {
      "text/plain": [
       "True"
      ]
     },
     "execution_count": 35,
     "metadata": {},
     "output_type": "execute_result"
    }
   ],
   "source": [
    "a=[2,3,5,6,7]\n",
    "9 not in a"
   ]
  },
  {
   "cell_type": "code",
   "execution_count": null,
   "id": "72609947-dc5c-45be-8af9-ec0aa70c0f4d",
   "metadata": {},
   "outputs": [],
   "source": []
  }
 ],
 "metadata": {
  "kernelspec": {
   "display_name": "Python 3 (ipykernel)",
   "language": "python",
   "name": "python3"
  },
  "language_info": {
   "codemirror_mode": {
    "name": "ipython",
    "version": 3
   },
   "file_extension": ".py",
   "mimetype": "text/x-python",
   "name": "python",
   "nbconvert_exporter": "python",
   "pygments_lexer": "ipython3",
   "version": "3.11.7"
  }
 },
 "nbformat": 4,
 "nbformat_minor": 5
}
