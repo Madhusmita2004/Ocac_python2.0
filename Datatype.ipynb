{
 "cells": [
  {
   "cell_type": "code",
   "execution_count": 1,
   "id": "cd3f8593-ae2a-4fbd-9930-f1464f2238e6",
   "metadata": {},
   "outputs": [],
   "source": [
    "x=10+20j"
   ]
  },
  {
   "cell_type": "code",
   "execution_count": 1,
   "id": "c7e15933-15de-4a19-b4d1-489b2decc574",
   "metadata": {},
   "outputs": [],
   "source": [
    "x=10+20j"
   ]
  },
  {
   "cell_type": "code",
   "execution_count": 3,
   "id": "04bc5f7f-d08a-4922-8d78-61232f234d9f",
   "metadata": {},
   "outputs": [
    {
     "data": {
      "text/plain": [
       "complex"
      ]
     },
     "execution_count": 3,
     "metadata": {},
     "output_type": "execute_result"
    }
   ],
   "source": [
    "type(x)"
   ]
  },
  {
   "cell_type": "code",
   "execution_count": 7,
   "id": "069c5a1f-6b74-4dd3-84c0-70c9cde6caa5",
   "metadata": {},
   "outputs": [
    {
     "name": "stdout",
     "output_type": "stream",
     "text": [
      "<class 'complex'>\n"
     ]
    }
   ],
   "source": [
    "x=10+20j\n",
    "print(type(x))"
   ]
  },
  {
   "cell_type": "code",
   "execution_count": 9,
   "id": "115f1a19-aef6-4a15-b478-73c1915b3def",
   "metadata": {},
   "outputs": [
    {
     "data": {
      "text/plain": [
       "bool"
      ]
     },
     "execution_count": 9,
     "metadata": {},
     "output_type": "execute_result"
    }
   ],
   "source": [
    "b1=True\n",
    "type(True)"
   ]
  },
  {
   "cell_type": "code",
   "execution_count": 10,
   "id": "702b2b75-2477-4855-97cb-c2673f4d7c62",
   "metadata": {},
   "outputs": [
    {
     "data": {
      "text/plain": [
       "0"
      ]
     },
     "execution_count": 10,
     "metadata": {},
     "output_type": "execute_result"
    }
   ],
   "source": [
    "int(False)"
   ]
  },
  {
   "cell_type": "code",
   "execution_count": 8,
   "id": "0cd37268-efc0-4aba-bb93-eda49a50c00d",
   "metadata": {},
   "outputs": [
    {
     "data": {
      "text/plain": [
       "10.0"
      ]
     },
     "execution_count": 8,
     "metadata": {},
     "output_type": "execute_result"
    }
   ],
   "source": [
    "x.real"
   ]
  },
  {
   "cell_type": "code",
   "execution_count": 11,
   "id": "edd17944-6b06-4f59-9305-610108898b8b",
   "metadata": {},
   "outputs": [
    {
     "data": {
      "text/plain": [
       "20.0"
      ]
     },
     "execution_count": 11,
     "metadata": {},
     "output_type": "execute_result"
    }
   ],
   "source": [
    "x.imag"
   ]
  },
  {
   "cell_type": "code",
   "execution_count": 12,
   "id": "6928e84e-6055-470b-a74c-abba9df93260",
   "metadata": {},
   "outputs": [
    {
     "data": {
      "text/plain": [
       "20"
      ]
     },
     "execution_count": 12,
     "metadata": {},
     "output_type": "execute_result"
    }
   ],
   "source": [
    "int(x.imag)"
   ]
  },
  {
   "cell_type": "code",
   "execution_count": 9,
   "id": "a6eedc43-4911-4525-94bb-7bd5807041c7",
   "metadata": {},
   "outputs": [
    {
     "name": "stdout",
     "output_type": "stream",
     "text": [
      "3.0\n"
     ]
    }
   ],
   "source": [
    "i=1.0+2.0j\n",
    "print(i.real+i.imag)"
   ]
  },
  {
   "cell_type": "code",
   "execution_count": 13,
   "id": "3c1f0a67-4820-4f3b-b5c0-08f5caf41023",
   "metadata": {},
   "outputs": [
    {
     "data": {
      "text/plain": [
       "'BBSRT'"
      ]
     },
     "execution_count": 13,
     "metadata": {},
     "output_type": "execute_result"
    }
   ],
   "source": [
    "z=\"BBSRTU\"\n",
    "z[:-1]"
   ]
  },
  {
   "cell_type": "code",
   "execution_count": 12,
   "id": "3c1bec75-d241-44c2-a480-a55cf9bf36a4",
   "metadata": {},
   "outputs": [
    {
     "data": {
      "text/plain": [
       "'U'"
      ]
     },
     "execution_count": 12,
     "metadata": {},
     "output_type": "execute_result"
    }
   ],
   "source": [
    "z[-1:]"
   ]
  },
  {
   "cell_type": "code",
   "execution_count": 14,
   "id": "00ca23d2-4c36-43f3-a8ca-51c1c9f91f3f",
   "metadata": {},
   "outputs": [
    {
     "data": {
      "text/plain": [
       "'UTRSBB'"
      ]
     },
     "execution_count": 14,
     "metadata": {},
     "output_type": "execute_result"
    }
   ],
   "source": [
    "z[::-1]"
   ]
  },
  {
   "cell_type": "code",
   "execution_count": 14,
   "id": "e093d6cf-5a72-4426-adc1-d21bfab390b2",
   "metadata": {},
   "outputs": [
    {
     "data": {
      "text/plain": [
       "'B'"
      ]
     },
     "execution_count": 14,
     "metadata": {},
     "output_type": "execute_result"
    }
   ],
   "source": [
    "z[1:3:2]"
   ]
  },
  {
   "cell_type": "code",
   "execution_count": 15,
   "id": "1fc0217b-8b75-4598-81a5-52e5b446180f",
   "metadata": {},
   "outputs": [
    {
     "data": {
      "text/plain": [
       "'BST'"
      ]
     },
     "execution_count": 15,
     "metadata": {},
     "output_type": "execute_result"
    }
   ],
   "source": [
    "z[0:7:2]"
   ]
  },
  {
   "cell_type": "code",
   "execution_count": 17,
   "id": "af9aeb89-db39-48d0-bd89-ff32c42d03b1",
   "metadata": {},
   "outputs": [
    {
     "data": {
      "text/plain": [
       "'S'"
      ]
     },
     "execution_count": 17,
     "metadata": {},
     "output_type": "execute_result"
    }
   ],
   "source": [
    "z[2:4:2]"
   ]
  },
  {
   "cell_type": "code",
   "execution_count": 18,
   "id": "86a44571-d28c-43ee-adce-77b528bf3185",
   "metadata": {},
   "outputs": [
    {
     "data": {
      "text/plain": [
       "'BT'"
      ]
     },
     "execution_count": 18,
     "metadata": {},
     "output_type": "execute_result"
    }
   ],
   "source": [
    "z[1:5:3]"
   ]
  },
  {
   "cell_type": "code",
   "execution_count": 16,
   "id": "f4953c42-3a14-43de-ad79-909099c78708",
   "metadata": {},
   "outputs": [
    {
     "data": {
      "text/plain": [
       "'B'"
      ]
     },
     "execution_count": 16,
     "metadata": {},
     "output_type": "execute_result"
    }
   ],
   "source": [
    "z[1:2:3]"
   ]
  },
  {
   "cell_type": "code",
   "execution_count": 21,
   "id": "f846e507-6d48-41cf-94d0-921ddfde10af",
   "metadata": {},
   "outputs": [
    {
     "data": {
      "text/plain": [
       "['sports ', ' game']"
      ]
     },
     "execution_count": 21,
     "metadata": {},
     "output_type": "execute_result"
    }
   ],
   "source": [
    "tweet='sports # game'\n",
    "tweet.split('#')"
   ]
  },
  {
   "cell_type": "code",
   "execution_count": 19,
   "id": "b179ca9a-9b04-4564-b107-17010f7ea7f2",
   "metadata": {},
   "outputs": [
    {
     "data": {
      "text/plain": [
       "'this is a campus '"
      ]
     },
     "execution_count": 19,
     "metadata": {},
     "output_type": "execute_result"
    }
   ],
   "source": [
    "''.join(['this ','is ','a ','campus '])"
   ]
  },
  {
   "cell_type": "code",
   "execution_count": 25,
   "id": "81b91228-5b66-4e18-ae1e-3fdc6ad74c1e",
   "metadata": {},
   "outputs": [
    {
     "data": {
      "text/plain": [
       "3"
      ]
     },
     "execution_count": 25,
     "metadata": {},
     "output_type": "execute_result"
    }
   ],
   "source": [
    "\"good morning\".count(\"o\")"
   ]
  },
  {
   "cell_type": "code",
   "execution_count": 31,
   "id": "f8dfba5e-5d36-4f18-8e6b-7ae4112f5c74",
   "metadata": {},
   "outputs": [
    {
     "data": {
      "text/plain": [
       "5"
      ]
     },
     "execution_count": 31,
     "metadata": {},
     "output_type": "execute_result"
    }
   ],
   "source": [
    "x=\"good morning\"\n",
    "x.find(\"m\")"
   ]
  },
  {
   "cell_type": "code",
   "execution_count": 35,
   "id": "697642d0-d2ec-4082-8939-bef2557cf497",
   "metadata": {},
   "outputs": [
    {
     "data": {
      "text/plain": [
       "'bad morning'"
      ]
     },
     "execution_count": 35,
     "metadata": {},
     "output_type": "execute_result"
    }
   ],
   "source": [
    "s1=\"good morning\"\n",
    "s2=s1.replace(\"good\",\"bad\")\n",
    "s2"
   ]
  },
  {
   "cell_type": "code",
   "execution_count": 36,
   "id": "a6b77a8b-bfb0-44ab-b17b-fc8a9c2c3fc6",
   "metadata": {},
   "outputs": [
    {
     "name": "stdout",
     "output_type": "stream",
     "text": [
      "True\n"
     ]
    }
   ],
   "source": [
    "my_str='madhu234'\n",
    "print(my_str.isalnum())"
   ]
  },
  {
   "cell_type": "code",
   "execution_count": 18,
   "id": "8453513c-c3be-4689-8941-f9aaa3bd7fbe",
   "metadata": {},
   "outputs": [
    {
     "name": "stdout",
     "output_type": "stream",
     "text": [
      "myString\n"
     ]
    }
   ],
   "source": [
    "myString=\"panda\"\n",
    "print(\"myString\")"
   ]
  },
  {
   "cell_type": "code",
   "execution_count": 20,
   "id": "9f93d7b0-23d6-4f3d-a747-d4315ba4a1db",
   "metadata": {},
   "outputs": [
    {
     "name": "stdout",
     "output_type": "stream",
     "text": [
      "['madhusmitapanda515', 'gmail.com']\n",
      "['jyotirmayeebaisakh', 'gmail.com']\n",
      "['ankitamohapatra115', 'gmail.com']\n"
     ]
    }
   ],
   "source": [
    "#homework\n",
    "email=\"madhusmitapanda515@gmail.com\"\n",
    "email1=\"jyotirmayeebaisakh@gmail.com\"\n",
    "email2=\"ankitamohapatra115@gmail.com\"\n",
    "print(email.split(\"@\"))\n",
    "print(email1.split(\"@\"))\n",
    "print(email2.split(\"@\"))\n"
   ]
  },
  {
   "cell_type": "code",
   "execution_count": null,
   "id": "d09cb961-8c8a-4377-bc6e-c6d3f6c6b163",
   "metadata": {},
   "outputs": [],
   "source": []
  }
 ],
 "metadata": {
  "kernelspec": {
   "display_name": "Python 3 (ipykernel)",
   "language": "python",
   "name": "python3"
  },
  "language_info": {
   "codemirror_mode": {
    "name": "ipython",
    "version": 3
   },
   "file_extension": ".py",
   "mimetype": "text/x-python",
   "name": "python",
   "nbconvert_exporter": "python",
   "pygments_lexer": "ipython3",
   "version": "3.11.7"
  }
 },
 "nbformat": 4,
 "nbformat_minor": 5
}
