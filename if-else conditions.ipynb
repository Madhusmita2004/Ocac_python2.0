{
 "cells": [
  {
   "cell_type": "code",
   "execution_count": 4,
   "id": "6aa64b45-f85b-4df8-b351-af0d7d024977",
   "metadata": {},
   "outputs": [
    {
     "name": "stdout",
     "output_type": "stream",
     "text": [
      "sambit\n"
     ]
    }
   ],
   "source": [
    "#if statement\n",
    "if 1>2:\n",
    "    print(\"hi\")\n",
    "print('jimi')\n"
   ]
  },
  {
   "cell_type": "code",
   "execution_count": null,
   "id": "4d46fecb-1aa6-4242-b529-86d16c725351",
   "metadata": {},
   "outputs": [],
   "source": [
    "name=input(\"enter name:\")\n",
    "if name==\"siva\":\n",
    "    print(\"Hello Good Morning\")"
   ]
  },
  {
   "cell_type": "code",
   "execution_count": 2,
   "id": "08be047b-0754-4c66-84c9-6a6e5e662d68",
   "metadata": {},
   "outputs": [
    {
     "name": "stdout",
     "output_type": "stream",
     "text": [
      "odd\n"
     ]
    }
   ],
   "source": [
    "#if-else statement\n",
    "x=19\n",
    "if x%2==0:\n",
    "    print('even')\n",
    "else:\n",
    "    print('odd')"
   ]
  },
  {
   "cell_type": "code",
   "execution_count": 6,
   "id": "ea9f4a50-3419-4a70-8197-0830f4194f94",
   "metadata": {},
   "outputs": [
    {
     "name": "stdout",
     "output_type": "stream",
     "text": [
      "AI\n",
      "ML\n"
     ]
    }
   ],
   "source": [
    "lst=['one','two','three','nine']\n",
    "if 'two' in lst:\n",
    "    print('AI')\n",
    "if 'six' not in lst:\n",
    "    print('ML')"
   ]
  },
  {
   "cell_type": "code",
   "execution_count": 7,
   "id": "231ac958-da8b-496b-a4c4-f2f87ab5586a",
   "metadata": {},
   "outputs": [
    {
     "name": "stdout",
     "output_type": "stream",
     "text": [
      "first\n"
     ]
    }
   ],
   "source": [
    "#if-elif-else statement\n",
    "if 2==2:\n",
    "    print('first')\n",
    "elif 3==3:\n",
    "    print('last')"
   ]
  },
  {
   "cell_type": "code",
   "execution_count": 8,
   "id": "a08313f4-0365-4076-a933-be0741229197",
   "metadata": {},
   "outputs": [
    {
     "name": "stdout",
     "output_type": "stream",
     "text": [
      "Grade B\n"
     ]
    }
   ],
   "source": [
    "x=65\n",
    "if x>90:\n",
    "    print('Grade A')\n",
    "elif(x>60):\n",
    "    print('Grade B')\n",
    "elif(x>70):\n",
    "    print('Grade C')\n",
    "else:\n",
    "    print('grade F')"
   ]
  },
  {
   "cell_type": "code",
   "execution_count": 9,
   "id": "9f21d4b7-dc7a-48ea-89d6-1d3c39e5cca0",
   "metadata": {},
   "outputs": [
    {
     "name": "stdout",
     "output_type": "stream",
     "text": [
      "All is well with the wqorld !\n"
     ]
    },
    {
     "name": "stderr",
     "output_type": "stream",
     "text": [
      "<>:1: SyntaxWarning: \"is\" with a literal. Did you mean \"==\"?\n",
      "<>:1: SyntaxWarning: \"is\" with a literal. Did you mean \"==\"?\n",
      "C:\\Users\\Madhusmita Panda\\AppData\\Local\\Temp\\ipykernel_2792\\2259217455.py:1: SyntaxWarning: \"is\" with a literal. Did you mean \"==\"?\n",
      "  if 1 is 3:\n"
     ]
    }
   ],
   "source": [
    "if 1 is 3:\n",
    "    print(\"How did that happen ?\")\n",
    "elif 1 > 3:\n",
    "    print(\"yikes\")\n",
    "else:\n",
    "    print(\"All is well with the wqorld !\")"
   ]
  },
  {
   "cell_type": "code",
   "execution_count": 10,
   "id": "dc6d628d-5ad9-4438-9364-330e674d0498",
   "metadata": {},
   "outputs": [
    {
     "name": "stdout",
     "output_type": "stream",
     "text": [
      "less than 3\n",
      "Fsdfsf\n"
     ]
    }
   ],
   "source": [
    "i=2.1\n",
    "if(i < 3):\n",
    "    print('less than 3')\n",
    "    if i>2:\n",
    "        print(\"Fsdfsf\")\n",
    "elif i<5:\n",
    "    print('less than 5')\n",
    "else:\n",
    "    print('5 or more')"
   ]
  },
  {
   "cell_type": "code",
   "execution_count": 12,
   "id": "c0142c07-11f5-4f96-9c6a-5db6842ea49e",
   "metadata": {},
   "outputs": [
    {
     "name": "stdin",
     "output_type": "stream",
     "text": [
      "enter your pin 345\n",
      "with draw amount: 570\n"
     ]
    },
    {
     "name": "stdout",
     "output_type": "stream",
     "text": [
      "570 Successfully transaction completed\n"
     ]
    }
   ],
   "source": [
    "amount=30000\n",
    "pin=345\n",
    "if(int(input('enter your pin'))==345):\n",
    "    with_draw=int(input('with draw amount:'))\n",
    "    if(with_draw<=amount):\n",
    "        print(with_draw,'Successfully transaction completed')\n",
    "    else:\n",
    "        print(with_draw,'not sufficient amount in your account')\n",
    "else:\n",
    "    print('invalid pin number')"
   ]
  },
  {
   "cell_type": "code",
   "execution_count": null,
   "id": "4c889b97-218e-4df2-add0-225d961c43fd",
   "metadata": {},
   "outputs": [],
   "source": []
  }
 ],
 "metadata": {
  "kernelspec": {
   "display_name": "Python 3 (ipykernel)",
   "language": "python",
   "name": "python3"
  },
  "language_info": {
   "codemirror_mode": {
    "name": "ipython",
    "version": 3
   },
   "file_extension": ".py",
   "mimetype": "text/x-python",
   "name": "python",
   "nbconvert_exporter": "python",
   "pygments_lexer": "ipython3",
   "version": "3.11.7"
  }
 },
 "nbformat": 4,
 "nbformat_minor": 5
}
