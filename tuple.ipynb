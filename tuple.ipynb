{
 "cells": [
  {
   "cell_type": "code",
   "execution_count": 1,
   "id": "2cf43b57-fed8-4964-a528-e51aba21ff43",
   "metadata": {},
   "outputs": [
    {
     "data": {
      "text/plain": [
       "tuple"
      ]
     },
     "execution_count": 1,
     "metadata": {},
     "output_type": "execute_result"
    }
   ],
   "source": [
    "#tuple\n",
    "tup1=()\n",
    "type(tup1)"
   ]
  },
  {
   "cell_type": "code",
   "execution_count": 2,
   "id": "1babc7a1-9bec-43a8-8459-69d428230885",
   "metadata": {},
   "outputs": [
    {
     "data": {
      "text/plain": [
       "([2, 3, 4], 7, 8, {'DAVID', 'john'}, 9, 0)"
      ]
     },
     "execution_count": 2,
     "metadata": {},
     "output_type": "execute_result"
    }
   ],
   "source": [
    "tup2=([2,3,4],7,8,{'DAVID','john'},9,0)\n",
    "tup2"
   ]
  },
  {
   "cell_type": "code",
   "execution_count": 3,
   "id": "c8873ea0-f27b-4243-a17f-9c7840eae9be",
   "metadata": {},
   "outputs": [
    {
     "data": {
      "text/plain": [
       "6"
      ]
     },
     "execution_count": 3,
     "metadata": {},
     "output_type": "execute_result"
    }
   ],
   "source": [
    "len(tup2)"
   ]
  },
  {
   "cell_type": "code",
   "execution_count": 4,
   "id": "98bc6e2e-6c20-429f-9113-de24303cd289",
   "metadata": {},
   "outputs": [
    {
     "data": {
      "text/plain": [
       "[2, 3, 4]"
      ]
     },
     "execution_count": 4,
     "metadata": {},
     "output_type": "execute_result"
    }
   ],
   "source": [
    "#tuple indexing\n",
    "tup2[0]"
   ]
  },
  {
   "cell_type": "code",
   "execution_count": 5,
   "id": "dd1007ff-3925-463e-a266-28029f9ac8e9",
   "metadata": {},
   "outputs": [
    {
     "data": {
      "text/plain": [
       "('three', 'two', 'one')"
      ]
     },
     "execution_count": 5,
     "metadata": {},
     "output_type": "execute_result"
    }
   ],
   "source": [
    "#tuple slicing\n",
    "mytuple=(\"one\",\"two\",\"three\",\"four\",\"five\")\n",
    "mytuple[-3::-1]"
   ]
  },
  {
   "cell_type": "code",
   "execution_count": 7,
   "id": "96da699b-bd5f-4ee8-a05b-0469e2d8a917",
   "metadata": {},
   "outputs": [
    {
     "data": {
      "text/plain": [
       "('three', 'four', 'five')"
      ]
     },
     "execution_count": 7,
     "metadata": {},
     "output_type": "execute_result"
    }
   ],
   "source": [
    "mytuple[2:5]"
   ]
  },
  {
   "cell_type": "code",
   "execution_count": 8,
   "id": "77d21bb5-0bb7-4a2f-8e5c-896bb173b287",
   "metadata": {},
   "outputs": [
    {
     "data": {
      "text/plain": [
       "('four', 'five')"
      ]
     },
     "execution_count": 8,
     "metadata": {},
     "output_type": "execute_result"
    }
   ],
   "source": [
    "mytuple[-2:]"
   ]
  },
  {
   "cell_type": "code",
   "execution_count": 9,
   "id": "ac82c699-a53d-4543-935f-2f5d0da8e083",
   "metadata": {},
   "outputs": [
    {
     "data": {
      "text/plain": [
       "('one', 'two', 'three', 'four', 'five')"
      ]
     },
     "execution_count": 9,
     "metadata": {},
     "output_type": "execute_result"
    }
   ],
   "source": [
    "#tuple remove\n",
    "mytuple"
   ]
  },
  {
   "cell_type": "code",
   "execution_count": 13,
   "id": "a7a9f8a3-8602-41fc-b6e5-cde9c2e9c122",
   "metadata": {},
   "outputs": [
    {
     "ename": "TypeError",
     "evalue": "'tuple' object doesn't support item deletion",
     "output_type": "error",
     "traceback": [
      "\u001b[1;31m---------------------------------------------------------------------------\u001b[0m",
      "\u001b[1;31mTypeError\u001b[0m                                 Traceback (most recent call last)",
      "Cell \u001b[1;32mIn[13], line 2\u001b[0m\n\u001b[0;32m      1\u001b[0m \u001b[38;5;28mtuple\u001b[39m\u001b[38;5;241m=\u001b[39m(\u001b[38;5;124m\"\u001b[39m\u001b[38;5;124mone\u001b[39m\u001b[38;5;124m\"\u001b[39m,\u001b[38;5;124m\"\u001b[39m\u001b[38;5;124mtwo\u001b[39m\u001b[38;5;124m\"\u001b[39m,\u001b[38;5;124m\"\u001b[39m\u001b[38;5;124mthree\u001b[39m\u001b[38;5;124m\"\u001b[39m,\u001b[38;5;124m\"\u001b[39m\u001b[38;5;124mfour\u001b[39m\u001b[38;5;124m\"\u001b[39m,\u001b[38;5;124m\"\u001b[39m\u001b[38;5;124mfive\u001b[39m\u001b[38;5;124m\"\u001b[39m)\n\u001b[1;32m----> 2\u001b[0m \u001b[38;5;28;01mdel\u001b[39;00m \u001b[38;5;28mtuple\u001b[39m[\u001b[38;5;241m0\u001b[39m]\n",
      "\u001b[1;31mTypeError\u001b[0m: 'tuple' object doesn't support item deletion"
     ]
    }
   ],
   "source": [
    "tuple=(\"one\",\"two\",\"three\",\"four\",\"five\")\n",
    "del tuple[0]"
   ]
  },
  {
   "cell_type": "code",
   "execution_count": 16,
   "id": "e27ef826-6fae-40e7-aabe-327d8823a656",
   "metadata": {},
   "outputs": [
    {
     "data": {
      "text/plain": [
       "2"
      ]
     },
     "execution_count": 16,
     "metadata": {},
     "output_type": "execute_result"
    }
   ],
   "source": [
    "#tuple methods\n",
    "tuple1=('books','notes','pen','pencil','eraser','sharpner','books','notes')\n",
    "tuple1.count('books')"
   ]
  },
  {
   "cell_type": "code",
   "execution_count": 17,
   "id": "b120ea45-0b7c-4e67-8053-8487654bff7f",
   "metadata": {},
   "outputs": [
    {
     "data": {
      "text/plain": [
       "1"
      ]
     },
     "execution_count": 17,
     "metadata": {},
     "output_type": "execute_result"
    }
   ],
   "source": [
    " #index position\n",
    "tuple1.index('notes')"
   ]
  },
  {
   "cell_type": "code",
   "execution_count": 18,
   "id": "91dc72e1-3823-415f-9551-61f6be9a24c6",
   "metadata": {},
   "outputs": [
    {
     "data": {
      "text/plain": [
       "[34, 45, 56, 67, 80, 90]"
      ]
     },
     "execution_count": 18,
     "metadata": {},
     "output_type": "execute_result"
    }
   ],
   "source": [
    "#sorting\n",
    "tuple2=(90,80,67,56,45,34)\n",
    "sorted(tuple2)"
   ]
  },
  {
   "cell_type": "code",
   "execution_count": 19,
   "id": "1b6c8d21-1c5d-40e7-a1d3-165112091d8b",
   "metadata": {},
   "outputs": [
    {
     "data": {
      "text/plain": [
       "[90, 80, 67, 56, 45, 34]"
      ]
     },
     "execution_count": 19,
     "metadata": {},
     "output_type": "execute_result"
    }
   ],
   "source": [
    "sorted(tuple2,reverse=True)"
   ]
  },
  {
   "cell_type": "code",
   "execution_count": 20,
   "id": "5edeecea-72ec-4000-a5c1-47a3994c4b81",
   "metadata": {},
   "outputs": [
    {
     "data": {
      "text/plain": [
       "True"
      ]
     },
     "execution_count": 20,
     "metadata": {},
     "output_type": "execute_result"
    }
   ],
   "source": [
    "#tuple membership\n",
    "mytuple=(\"one\",\"two\",\"three\",\"four\",\"five\",\"six\",\"six\")\n",
    "'six' in mytuple"
   ]
  },
  {
   "cell_type": "code",
   "execution_count": 21,
   "id": "74ba810c-4a1e-4fa8-a9f2-35d209f4c39c",
   "metadata": {},
   "outputs": [
    {
     "name": "stdout",
     "output_type": "stream",
     "text": [
      "<class 'type'>\n"
     ]
    }
   ],
   "source": [
    "#sets\n",
    "my_var=set()\n",
    "print(type(set))"
   ]
  },
  {
   "cell_type": "code",
   "execution_count": 22,
   "id": "87420a52-8ded-45f2-b83c-b69e713f054c",
   "metadata": {},
   "outputs": [
    {
     "data": {
      "text/plain": [
       "{12, 13, 14, 16, 17, 18, 19, 20, 22}"
      ]
     },
     "execution_count": 22,
     "metadata": {},
     "output_type": "execute_result"
    }
   ],
   "source": [
    "w={12,13,14,22,16,17,18,19,20}\n",
    "w                      #ASCII code by sequencing "
   ]
  },
  {
   "cell_type": "code",
   "execution_count": 31,
   "id": "1e9ab079-cccd-4fb4-aeac-0182cd5bf4e1",
   "metadata": {},
   "outputs": [
    {
     "name": "stdout",
     "output_type": "stream",
     "text": [
      "[1, 2, 3, 4, 5, 6]\n"
     ]
    }
   ],
   "source": [
    "s=list(set([1,3,4,5,2,6]))\n",
    "print(s)"
   ]
  },
  {
   "cell_type": "code",
   "execution_count": 33,
   "id": "bc2aadcb-af7e-4361-93c5-170cd669d26d",
   "metadata": {},
   "outputs": [
    {
     "data": {
      "text/plain": [
       "{4, 7, 10, 13, 16, 19, 22, 25, 28, 31, 34, 37, 40, 43, 46, 49, 52}"
      ]
     },
     "execution_count": 33,
     "metadata": {},
     "output_type": "execute_result"
    }
   ],
   "source": [
    "i=set(range(4,54,3))\n",
    "i            #range atmost 3 arguments"
   ]
  },
  {
   "cell_type": "code",
   "execution_count": 23,
   "id": "d14d241e-5265-4453-8c77-144d2477581b",
   "metadata": {},
   "outputs": [
    {
     "data": {
      "text/plain": [
       "{12, 23, 43}"
      ]
     },
     "execution_count": 23,
     "metadata": {},
     "output_type": "execute_result"
    }
   ],
   "source": [
    "s={12,23,43,23}\n",
    "s"
   ]
  },
  {
   "cell_type": "code",
   "execution_count": 24,
   "id": "7779ab9f-f0bd-4bc6-8d87-f0112d66cc79",
   "metadata": {},
   "outputs": [
    {
     "name": "stdout",
     "output_type": "stream",
     "text": [
      "{'c', 'b', 'a'}\n"
     ]
    }
   ],
   "source": [
    "tup_set=set(('a','b','c'))\n",
    "print(tup_set)"
   ]
  },
  {
   "cell_type": "code",
   "execution_count": 34,
   "id": "81ca5889-0880-4180-a943-41b6e26b2e0e",
   "metadata": {},
   "outputs": [
    {
     "data": {
      "text/plain": [
       "set()"
      ]
     },
     "execution_count": 34,
     "metadata": {},
     "output_type": "execute_result"
    }
   ],
   "source": [
    "#set methods\n",
    "c=set()\n",
    "c"
   ]
  },
  {
   "cell_type": "code",
   "execution_count": 35,
   "id": "002f8b97-0616-45ee-9c54-56778c06cd3e",
   "metadata": {},
   "outputs": [
    {
     "data": {
      "text/plain": [
       "{3}"
      ]
     },
     "execution_count": 35,
     "metadata": {},
     "output_type": "execute_result"
    }
   ],
   "source": [
    "c.add(3)\n",
    "c"
   ]
  },
  {
   "cell_type": "code",
   "execution_count": 39,
   "id": "8462b36c-5b1f-42ff-823c-3877c335ba29",
   "metadata": {},
   "outputs": [
    {
     "data": {
      "text/plain": [
       "{3, 4, 'b'}"
      ]
     },
     "execution_count": 39,
     "metadata": {},
     "output_type": "execute_result"
    }
   ],
   "source": [
    "c.add(4)\n",
    "c.add('b')\n",
    "c                     #c.add take exactly one argument"
   ]
  },
  {
   "cell_type": "code",
   "execution_count": 25,
   "id": "2c6ed9f7-cc7b-4d98-8c50-e6820670ab15",
   "metadata": {},
   "outputs": [
    {
     "name": "stdout",
     "output_type": "stream",
     "text": [
      "{1, 5, 6}\n"
     ]
    }
   ],
   "source": [
    "#update\n",
    "s=set()\n",
    "s.update([5,6,1])\n",
    "print(s)"
   ]
  },
  {
   "cell_type": "code",
   "execution_count": 26,
   "id": "d2cff9e9-5eee-4551-94ca-4e81238e8cf7",
   "metadata": {},
   "outputs": [
    {
     "data": {
      "text/plain": [
       "{1, 5, 6}"
      ]
     },
     "execution_count": 26,
     "metadata": {},
     "output_type": "execute_result"
    }
   ],
   "source": [
    "#set copy\n",
    "d=s.copy()\n",
    "d"
   ]
  },
  {
   "cell_type": "code",
   "execution_count": 27,
   "id": "10f16583-1c50-47b9-8e8b-ca3f7193ae3c",
   "metadata": {},
   "outputs": [
    {
     "name": "stdout",
     "output_type": "stream",
     "text": [
      "{1, 3, 4, 5}\n"
     ]
    }
   ],
   "source": [
    "#delete\n",
    "s={1,2,3,4,5}\n",
    "s.discard(2)\n",
    "print(s)"
   ]
  },
  {
   "cell_type": "code",
   "execution_count": 28,
   "id": "ee7002c3-9cc2-45b1-bd60-11e58f595b65",
   "metadata": {},
   "outputs": [
    {
     "data": {
      "text/plain": [
       "2"
      ]
     },
     "execution_count": 28,
     "metadata": {},
     "output_type": "execute_result"
    }
   ],
   "source": [
    "s={2,2,3,4,5,5,\"madhu\"}\n",
    "s.pop()\n"
   ]
  },
  {
   "cell_type": "code",
   "execution_count": 29,
   "id": "9650a3c3-ce72-4c95-8fba-8ae84490a2fa",
   "metadata": {},
   "outputs": [
    {
     "ename": "NameError",
     "evalue": "name 's' is not defined",
     "output_type": "error",
     "traceback": [
      "\u001b[1;31m---------------------------------------------------------------------------\u001b[0m",
      "\u001b[1;31mNameError\u001b[0m                                 Traceback (most recent call last)",
      "Cell \u001b[1;32mIn[29], line 3\u001b[0m\n\u001b[0;32m      1\u001b[0m s\u001b[38;5;241m=\u001b[39m{\u001b[38;5;241m1\u001b[39m,\u001b[38;5;241m2\u001b[39m,\u001b[38;5;241m5\u001b[39m,\u001b[38;5;241m6\u001b[39m,\u001b[38;5;241m7\u001b[39m}\n\u001b[0;32m      2\u001b[0m \u001b[38;5;28;01mdel\u001b[39;00m s\n\u001b[1;32m----> 3\u001b[0m \u001b[38;5;28mprint\u001b[39m(s)\n",
      "\u001b[1;31mNameError\u001b[0m: name 's' is not defined"
     ]
    }
   ],
   "source": [
    "s={1,2,5,6,7}\n",
    "del s\n",
    "print(s)"
   ]
  },
  {
   "cell_type": "code",
   "execution_count": 30,
   "id": "62d42a74-2818-4277-bce5-e3f9fee9faf5",
   "metadata": {},
   "outputs": [
    {
     "ename": "NameError",
     "evalue": "name 'x' is not defined",
     "output_type": "error",
     "traceback": [
      "\u001b[1;31m---------------------------------------------------------------------------\u001b[0m",
      "\u001b[1;31mNameError\u001b[0m                                 Traceback (most recent call last)",
      "Cell \u001b[1;32mIn[30], line 1\u001b[0m\n\u001b[1;32m----> 1\u001b[0m \u001b[38;5;28mtype\u001b[39m(x)\n",
      "\u001b[1;31mNameError\u001b[0m: name 'x' is not defined"
     ]
    }
   ],
   "source": [
    "type(x)"
   ]
  }
 ],
 "metadata": {
  "kernelspec": {
   "display_name": "Python 3 (ipykernel)",
   "language": "python",
   "name": "python3"
  },
  "language_info": {
   "codemirror_mode": {
    "name": "ipython",
    "version": 3
   },
   "file_extension": ".py",
   "mimetype": "text/x-python",
   "name": "python",
   "nbconvert_exporter": "python",
   "pygments_lexer": "ipython3",
   "version": "3.11.7"
  }
 },
 "nbformat": 4,
 "nbformat_minor": 5
}
