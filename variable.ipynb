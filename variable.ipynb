{
 "cells": [
  {
   "cell_type": "code",
   "execution_count": 1,
   "id": "574e9b38-8d77-46fc-be3e-5d7556e78361",
   "metadata": {},
   "outputs": [
    {
     "data": {
      "text/plain": [
       "'MADHUSMITA'"
      ]
     },
     "execution_count": 1,
     "metadata": {},
     "output_type": "execute_result"
    }
   ],
   "source": [
    "A=\"MADHUSMITA\"\n",
    "A"
   ]
  },
  {
   "cell_type": "code",
   "execution_count": 15,
   "id": "c465ea66-d6cf-4d53-8975-0b24ce37ad02",
   "metadata": {},
   "outputs": [
    {
     "data": {
      "text/plain": [
       "100"
      ]
     },
     "execution_count": 15,
     "metadata": {},
     "output_type": "execute_result"
    }
   ],
   "source": [
    "a=100\n",
    "a"
   ]
  },
  {
   "cell_type": "code",
   "execution_count": 10,
   "id": "ccf6e740-f3a6-49cd-a9a8-5af7d4725389",
   "metadata": {},
   "outputs": [
    {
     "data": {
      "text/plain": [
       "60"
      ]
     },
     "execution_count": 10,
     "metadata": {},
     "output_type": "execute_result"
    }
   ],
   "source": [
    "cb=60\n",
    "cb"
   ]
  },
  {
   "cell_type": "code",
   "execution_count": 11,
   "id": "c64ffbaa-4882-4d52-9d22-168a9878bcad",
   "metadata": {},
   "outputs": [
    {
     "data": {
      "text/plain": [
       "int"
      ]
     },
     "execution_count": 11,
     "metadata": {},
     "output_type": "execute_result"
    }
   ],
   "source": [
    "type(cb)"
   ]
  },
  {
   "cell_type": "code",
   "execution_count": 13,
   "id": "d8220a84-fcb5-44e0-9a70-5b3bbf20d8bc",
   "metadata": {},
   "outputs": [
    {
     "data": {
      "text/plain": [
       "35"
      ]
     },
     "execution_count": 13,
     "metadata": {},
     "output_type": "execute_result"
    }
   ],
   "source": [
    "len(keyword.kwlist)"
   ]
  },
  {
   "cell_type": "code",
   "execution_count": 14,
   "id": "4f353b71-18cc-4c4c-b35c-5cca44ad234a",
   "metadata": {},
   "outputs": [
    {
     "data": {
      "text/plain": [
       "50"
      ]
     },
     "execution_count": 14,
     "metadata": {},
     "output_type": "execute_result"
    }
   ],
   "source": [
    "a1=50\n",
    "a1"
   ]
  },
  {
   "cell_type": "code",
   "execution_count": 15,
   "id": "ca5c2b64-846a-4703-a9b9-6fbfac90c973",
   "metadata": {},
   "outputs": [
    {
     "ename": "SyntaxError",
     "evalue": "invalid syntax (2287757957.py, line 1)",
     "output_type": "error",
     "traceback": [
      "\u001b[1;36m  Cell \u001b[1;32mIn[15], line 1\u001b[1;36m\u001b[0m\n\u001b[1;33m    b$7=80\u001b[0m\n\u001b[1;37m     ^\u001b[0m\n\u001b[1;31mSyntaxError\u001b[0m\u001b[1;31m:\u001b[0m invalid syntax\n"
     ]
    }
   ],
   "source": [
    "b$7=80\n",
    "b$7"
   ]
  },
  {
   "cell_type": "code",
   "execution_count": 18,
   "id": "8c2dda98-9366-41a1-875d-b35ad08d6649",
   "metadata": {},
   "outputs": [
    {
     "data": {
      "text/plain": [
       "140734618586376"
      ]
     },
     "execution_count": 18,
     "metadata": {},
     "output_type": "execute_result"
    }
   ],
   "source": [
    "b_7=80\n",
    "b_7\n",
    "id(b_7)"
   ]
  },
  {
   "cell_type": "code",
   "execution_count": 20,
   "id": "99951b5d-f166-4f30-8492-9b315f6ef600",
   "metadata": {},
   "outputs": [
    {
     "data": {
      "text/plain": [
       "3022336682576"
      ]
     },
     "execution_count": 20,
     "metadata": {},
     "output_type": "execute_result"
    }
   ],
   "source": [
    "v=500\n",
    "id(v)"
   ]
  },
  {
   "cell_type": "code",
   "execution_count": 21,
   "id": "795b3e98-a709-4fe0-8339-4a5b96f37fd8",
   "metadata": {},
   "outputs": [
    {
     "name": "stdout",
     "output_type": "stream",
     "text": [
      "70\n"
     ]
    }
   ],
   "source": [
    "a=40\n",
    "b=30\n",
    "sum=a+b\n",
    "print(sum)"
   ]
  },
  {
   "cell_type": "code",
   "execution_count": 22,
   "id": "b44d6c91-c6bd-4cdf-97d0-dc741a19a9bd",
   "metadata": {},
   "outputs": [
    {
     "data": {
      "text/plain": [
       "9"
      ]
     },
     "execution_count": 22,
     "metadata": {},
     "output_type": "execute_result"
    }
   ],
   "source": [
    "a=b=c=9\n",
    "b"
   ]
  },
  {
   "cell_type": "code",
   "execution_count": 23,
   "id": "ca9a7bd5-e02d-4305-996a-c6ae3dc3a4b1",
   "metadata": {},
   "outputs": [
    {
     "name": "stdout",
     "output_type": "stream",
     "text": [
      "90 67 56\n"
     ]
    }
   ],
   "source": [
    "a=90\n",
    "b=67\n",
    "c=56\n",
    "abc=45\n",
    "print(a,b,c)"
   ]
  },
  {
   "cell_type": "code",
   "execution_count": 24,
   "id": "528227a4-3518-4632-bc13-d028f33552e8",
   "metadata": {},
   "outputs": [
    {
     "name": "stdout",
     "output_type": "stream",
     "text": [
      "45\n"
     ]
    }
   ],
   "source": [
    "print(abc)"
   ]
  },
  {
   "cell_type": "code",
   "execution_count": 31,
   "id": "e6e7f9d1-4dc5-4f9f-8884-df000c63adf8",
   "metadata": {},
   "outputs": [
    {
     "name": "stdout",
     "output_type": "stream",
     "text": [
      "56\n"
     ]
    }
   ],
   "source": [
    "a=56\n",
    "print(a)"
   ]
  },
  {
   "cell_type": "code",
   "execution_count": 35,
   "id": "65eac88f-51ec-45d2-9da8-3f9b53bc6305",
   "metadata": {},
   "outputs": [],
   "source": [
    "a=45\n",
    "b=34\n",
    "c=78\n",
    "del a,b"
   ]
  },
  {
   "cell_type": "code",
   "execution_count": 38,
   "id": "661bc91a-1a1f-4703-af0f-401e7c06ae2b",
   "metadata": {},
   "outputs": [
    {
     "name": "stdout",
     "output_type": "stream",
     "text": [
      "78\n"
     ]
    }
   ],
   "source": [
    "print(c)"
   ]
  },
  {
   "cell_type": "code",
   "execution_count": 39,
   "id": "15dfc9b5-db35-41a6-b0a9-a194f3b5f165",
   "metadata": {},
   "outputs": [
    {
     "name": "stdout",
     "output_type": "stream",
     "text": [
      "madhusmita\n"
     ]
    }
   ],
   "source": [
    "print(\"madhusmita\")"
   ]
  },
  {
   "cell_type": "code",
   "execution_count": 40,
   "id": "282e9c77-d0f0-4c8a-abc2-72759eff289f",
   "metadata": {},
   "outputs": [
    {
     "name": "stdout",
     "output_type": "stream",
     "text": [
      "20\n"
     ]
    }
   ],
   "source": [
    "b=20\n",
    "print(b)"
   ]
  },
  {
   "cell_type": "code",
   "execution_count": 41,
   "id": "260d9968-cd19-46a0-a77c-e0a6f33d5a33",
   "metadata": {},
   "outputs": [
    {
     "name": "stdout",
     "output_type": "stream",
     "text": [
      "9\n"
     ]
    },
    {
     "data": {
      "text/plain": [
       "int"
      ]
     },
     "execution_count": 41,
     "metadata": {},
     "output_type": "execute_result"
    }
   ],
   "source": [
    "c=9\n",
    "print(c)\n",
    "type(c)"
   ]
  },
  {
   "cell_type": "code",
   "execution_count": 43,
   "id": "2c560340-895b-4b1f-87bc-76f64695aaf7",
   "metadata": {},
   "outputs": [
    {
     "name": "stdout",
     "output_type": "stream",
     "text": [
      "9\n"
     ]
    },
    {
     "data": {
      "text/plain": [
       "str"
      ]
     },
     "execution_count": 43,
     "metadata": {},
     "output_type": "execute_result"
    }
   ],
   "source": [
    "f='9'\n",
    "print(f)\n",
    "type(f)"
   ]
  },
  {
   "cell_type": "code",
   "execution_count": 44,
   "id": "7d9d4d1b-51bb-4b74-9002-5098007eb9e6",
   "metadata": {},
   "outputs": [
    {
     "name": "stdout",
     "output_type": "stream",
     "text": [
      "30\n"
     ]
    }
   ],
   "source": [
    "print(10+20)"
   ]
  },
  {
   "cell_type": "code",
   "execution_count": 46,
   "id": "5406ba22-7b36-40a9-bd09-40a22ef7d9c7",
   "metadata": {},
   "outputs": [
    {
     "name": "stdout",
     "output_type": "stream",
     "text": [
      "90:78:65\n"
     ]
    }
   ],
   "source": [
    "e=90\n",
    "f=78\n",
    "g=65\n",
    "print(e,f,g,sep=\":\")"
   ]
  },
  {
   "cell_type": "code",
   "execution_count": 47,
   "id": "e65b0da0-b744-4003-b99b-c1d7b75825aa",
   "metadata": {},
   "outputs": [
    {
     "name": "stdout",
     "output_type": "stream",
     "text": [
      "Name smita madhu\n"
     ]
    }
   ],
   "source": [
    "first_name='madhu'\n",
    "last_name='smita'\n",
    "print(\"Name\",last_name,first_name)"
   ]
  },
  {
   "cell_type": "code",
   "execution_count": 51,
   "id": "c230eb92-808b-4031-9450-7c2f1632694f",
   "metadata": {},
   "outputs": [
    {
     "name": "stdout",
     "output_type": "stream",
     "text": [
      "my first name is:madhu and last name is:smita\n"
     ]
    }
   ],
   "source": [
    "print(\"my first name is:{} and last name is:{}\".format(first_name,last_name))"
   ]
  },
  {
   "cell_type": "code",
   "execution_count": 25,
   "id": "1c007451-71e7-4479-ae16-c6ab914aa4ff",
   "metadata": {},
   "outputs": [
    {
     "name": "stdout",
     "output_type": "stream",
     "text": [
      "My number is:70 and my name is:smita\n",
      "my number is:70 and my name is :smita\n",
      "my number is: 70 and my name is: smita\n"
     ]
    }
   ],
   "source": [
    "num=70\n",
    "name= 'smita'\n",
    "print('My number is:{one} and my name is:{two}'.format(one=num,two=name))\n",
    "print('my number is:{} and my name is :{}'.format(num,name))\n",
    "print(\"my number is:\",num,\"and my name is:\",name)"
   ]
  },
  {
   "cell_type": "code",
   "execution_count": 28,
   "id": "b1927096-d95c-45a6-a8d9-1d43041f1986",
   "metadata": {},
   "outputs": [
    {
     "name": "stdin",
     "output_type": "stream",
     "text": [
      "enter the value of e: 2\n",
      "enter the value of f: 2\n"
     ]
    },
    {
     "name": "stdout",
     "output_type": "stream",
     "text": [
      "MOD: 0\n",
      "sum:4,sub:0,mult4,div1.0,mod0\n"
     ]
    }
   ],
   "source": [
    "e=int(input(\"enter the value of e:\"))\n",
    "f=int(input(\"enter the value of f:\"))\n",
    "add=e+f\n",
    "sub=e-f\n",
    "mult=e*f\n",
    "div=e/f\n",
    "mod=e%f\n",
    "print(\"MOD:\",mod)\n",
    "print(\"sum:{0},sub:{1},mult{2},div{3},mod{4}\".format(add,sub,mult,div,mod))"
   ]
  },
  {
   "cell_type": "code",
   "execution_count": 7,
   "id": "afd35394-0339-4dee-9897-8ba1b6ce529a",
   "metadata": {},
   "outputs": [
    {
     "name": "stdout",
     "output_type": "stream",
     "text": [
      "sum:4,sub:0,mult:4,div:1.0,mod:0\n"
     ]
    }
   ],
   "source": [
    "print(\"sum:{},sub:{},mult:{},div:{},mod:{}\".format(add,sub,mult,div,mod))"
   ]
  },
  {
   "cell_type": "code",
   "execution_count": 27,
   "id": "3f1b2ca9-76c0-4378-be70-947b6e540b57",
   "metadata": {},
   "outputs": [
    {
     "name": "stdout",
     "output_type": "stream",
     "text": [
      "sum |sub |mult|div \n"
     ]
    }
   ],
   "source": [
    "print('{0:<4}|{1:^4}|{2:^4}|{3:^4}'.format('sum','sub','mult','div','mod'))"
   ]
  },
  {
   "cell_type": "code",
   "execution_count": 13,
   "id": "d06eed5d-bbf2-4a7c-84c4-2608e2ba2e00",
   "metadata": {},
   "outputs": [
    {
     "name": "stdin",
     "output_type": "stream",
     "text": [
      "enter your college name gita\n",
      "enter the number of students 4000\n"
     ]
    },
    {
     "name": "stdout",
     "output_type": "stream",
     "text": [
      "the name of the college is and the number of the students are gita 4000\n"
     ]
    }
   ],
   "source": [
    "a=input(\"enter your college name\")\n",
    "b=input(\"enter the number of students\")\n",
    "print(\"the name of the college is and the number of the students are\",a,b)"
   ]
  },
  {
   "cell_type": "code",
   "execution_count": 20,
   "id": "44864100-5ed8-475b-8b96-d57450ebf281",
   "metadata": {},
   "outputs": [
    {
     "name": "stdout",
     "output_type": "stream",
     "text": [
      "the name of he college is 100 and the number of students are  4000\n"
     ]
    }
   ],
   "source": [
    "print(\"the name of he college is\",a,\"and the number of students are \",b)"
   ]
  },
  {
   "cell_type": "code",
   "execution_count": 24,
   "id": "2609329c-48b3-47ef-b76e-407d7472e337",
   "metadata": {},
   "outputs": [
    {
     "name": "stdout",
     "output_type": "stream",
     "text": [
      "The name of the college is {a} and the number of the students are {b}\n"
     ]
    }
   ],
   "source": [
    "print(\"The name of the college is {a} and the number of the students are {b}\") "
   ]
  },
  {
   "cell_type": "code",
   "execution_count": null,
   "id": "bdebbb60-a78b-4415-8874-d038270cb63d",
   "metadata": {},
   "outputs": [],
   "source": []
  }
 ],
 "metadata": {
  "kernelspec": {
   "display_name": "Python 3 (ipykernel)",
   "language": "python",
   "name": "python3"
  },
  "language_info": {
   "codemirror_mode": {
    "name": "ipython",
    "version": 3
   },
   "file_extension": ".py",
   "mimetype": "text/x-python",
   "name": "python",
   "nbconvert_exporter": "python",
   "pygments_lexer": "ipython3",
   "version": "3.11.7"
  }
 },
 "nbformat": 4,
 "nbformat_minor": 5
}
