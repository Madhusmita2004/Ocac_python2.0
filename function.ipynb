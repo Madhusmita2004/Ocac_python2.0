{
 "cells": [
  {
   "cell_type": "code",
   "execution_count": 2,
   "id": "850f8d98-1d76-47c6-b55d-3d671b2fbf45",
   "metadata": {},
   "outputs": [
    {
     "data": {
      "text/plain": [
       "(1, 2)"
      ]
     },
     "execution_count": 2,
     "metadata": {},
     "output_type": "execute_result"
    }
   ],
   "source": [
    "divmod(6,4)"
   ]
  },
  {
   "cell_type": "code",
   "execution_count": 1,
   "id": "01d6c61a-f4bf-4e6b-89c4-3551f8b27a7f",
   "metadata": {},
   "outputs": [
    {
     "data": {
      "text/plain": [
       "100"
      ]
     },
     "execution_count": 1,
     "metadata": {},
     "output_type": "execute_result"
    }
   ],
   "source": [
    "num=-100\n",
    "abs(num)"
   ]
  },
  {
   "cell_type": "code",
   "execution_count": 8,
   "id": "10ce21a0-5671-47ca-96b5-fdc87fe61f35",
   "metadata": {},
   "outputs": [],
   "source": [
    "#user-defined with return\n",
    "def print_name(x):\n",
    "    return(\"Hello\",x)"
   ]
  },
  {
   "cell_type": "code",
   "execution_count": 3,
   "id": "45f648bc-334d-4d24-82b6-b6573d5dc864",
   "metadata": {},
   "outputs": [
    {
     "data": {
      "text/plain": [
       "20"
      ]
     },
     "execution_count": 3,
     "metadata": {},
     "output_type": "execute_result"
    }
   ],
   "source": [
    "def double(num):\n",
    "    return 2*int(num)\n",
    "double(10.7)"
   ]
  },
  {
   "cell_type": "code",
   "execution_count": 11,
   "id": "213f7fd1-32fa-4592-a33c-9ae3ab4755db",
   "metadata": {},
   "outputs": [],
   "source": [
    "def print_my (name):\n",
    "    return \"my name is - \"+name  "
   ]
  },
  {
   "cell_type": "code",
   "execution_count": 12,
   "id": "b99b1739-f3a5-4eb1-a0f7-d6f1b34e255f",
   "metadata": {},
   "outputs": [
    {
     "data": {
      "text/plain": [
       "'my name is - madhu'"
      ]
     },
     "execution_count": 12,
     "metadata": {},
     "output_type": "execute_result"
    }
   ],
   "source": [
    "print_my(\"madhu\")"
   ]
  },
  {
   "cell_type": "code",
   "execution_count": 4,
   "id": "a8a33f8e-784e-418e-8e7c-028b227eb116",
   "metadata": {},
   "outputs": [
    {
     "data": {
      "text/plain": [
       "10"
      ]
     },
     "execution_count": 4,
     "metadata": {},
     "output_type": "execute_result"
    }
   ],
   "source": [
    "def get_sum(lst):\n",
    "    sum=0\n",
    "    for num in lst:\n",
    "        sum+=num\n",
    "    return sum\n",
    "get_sum([1,2,3,4])"
   ]
  },
  {
   "cell_type": "code",
   "execution_count": 5,
   "id": "18957b81-2529-4384-b3cb-85a0b85e1ba2",
   "metadata": {},
   "outputs": [
    {
     "name": "stdout",
     "output_type": "stream",
     "text": [
      "8 15\n"
     ]
    }
   ],
   "source": [
    "lst=[2,3,5,6,7]\n",
    "\n",
    "even_sum=0\n",
    "odd_sum=0\n",
    "for i in lst:\n",
    "    if i%2==0:\n",
    "        even_sum=even_sum+i\n",
    "    else:\n",
    "        odd_sum=odd_sum+i\n",
    "print(even_sum,odd_sum)"
   ]
  },
  {
   "cell_type": "code",
   "execution_count": 21,
   "id": "3b1731e9-9c1a-42d3-8ed8-1910bff3ffbb",
   "metadata": {},
   "outputs": [
    {
     "name": "stdout",
     "output_type": "stream",
     "text": [
      "hello satish .Good morning\n"
     ]
    }
   ],
   "source": [
    "#function arguments\n",
    "\n",
    "def greet(name,msg):\n",
    "    print(\"hello {} .{}\".format(name,msg))\n",
    "greet(\"satish\", \"Good morning\")"
   ]
  },
  {
   "cell_type": "code",
   "execution_count": 19,
   "id": "7aeae042-4619-445c-8315-74550ccf6b59",
   "metadata": {},
   "outputs": [],
   "source": [
    "#function with no arguments\n",
    "def even_num():\n",
    "    lb=int(input('enter lb:'))\n",
    "    ub=int(input('enter ub:'))\n",
    "    for i in range(lb,ub+1):\n",
    "        if i%2==0:\n",
    "            print(i)"
   ]
  },
  {
   "cell_type": "code",
   "execution_count": 6,
   "id": "2de77141-8088-4584-88fe-35d139eb9287",
   "metadata": {},
   "outputs": [
    {
     "name": "stdout",
     "output_type": "stream",
     "text": [
      "Hellosatish,Good Night\n"
     ]
    }
   ],
   "source": [
    "#default arguments\n",
    "def greet(name, msg=\"Good morning\"):\n",
    "    print(\"Hello{},{}\".format(name,msg))\n",
    "greet(\"satish\",\"Good Night\")"
   ]
  },
  {
   "cell_type": "code",
   "execution_count": 9,
   "id": "1604e5e4-89de-48bd-b4b5-7d8486c30872",
   "metadata": {},
   "outputs": [
    {
     "name": "stdout",
     "output_type": "stream",
     "text": [
      "hello good , Good afternoon\n"
     ]
    }
   ],
   "source": [
    "#keyword arguments\n",
    "def greet(**kwargs):\n",
    "    if kwargs:\n",
    "        print(\"hello {} , {}\".format(kwargs['name'],kwargs['msg']))\n",
    "greet(name=\"good\",msg=\"Good afternoon\")"
   ]
  },
  {
   "cell_type": "code",
   "execution_count": 14,
   "id": "f495945b-1796-4532-8352-58c08d2542a5",
   "metadata": {},
   "outputs": [],
   "source": [
    "#arbitary argument\n",
    "def greet(*names):\n",
    "    print(names)\n",
    "    for name in names:\n",
    "        print(\"hello,{0}\".format(name))"
   ]
  },
  {
   "cell_type": "code",
   "execution_count": null,
   "id": "9558545e-8788-445f-8e1a-db95792b8671",
   "metadata": {},
   "outputs": [],
   "source": [
    "# usng * mark in argument wecan take any no. of parameters e.g:def greet(*names):\n",
    "# when a fuction call inside a fuction recursive function\n"
   ]
  },
  {
   "cell_type": "code",
   "execution_count": 1,
   "id": "c2ed4de5-1ff4-4166-846d-222a69794d15",
   "metadata": {},
   "outputs": [],
   "source": [
    "#recursive function or recursion\n",
    "#print factorial of a number\n",
    "def factorial(num):\n",
    "    if num==0:\n",
    "        return 1\n",
    "    else:\n",
    "        return num * factorial(num-1)"
   ]
  },
  {
   "cell_type": "code",
   "execution_count": 2,
   "id": "79c4a505-1f84-4300-b1fa-d42a3f92a956",
   "metadata": {},
   "outputs": [
    {
     "name": "stdout",
     "output_type": "stream",
     "text": [
      "Factorial of 5 is <function factorial at 0x0000024180089BC0>\n"
     ]
    }
   ],
   "source": [
    "num = 5\n",
    "print(\"Factorial of {} is {}\".format(num,factorial))"
   ]
  },
  {
   "cell_type": "code",
   "execution_count": 7,
   "id": "425712d6-add6-47e1-ac75-1fefd2d0f8d9",
   "metadata": {},
   "outputs": [
    {
     "name": "stdout",
     "output_type": "stream",
     "text": [
      "select option\n",
      "1. addition\n",
      "2. substraction\n",
      "3. multiplication\n",
      "4. Division\n"
     ]
    },
    {
     "name": "stdin",
     "output_type": "stream",
     "text": [
      "enter choice 1/2/3/4:  1\n",
      "enter first number:  2\n",
      "enter second number:  4\n"
     ]
    },
    {
     "name": "stdout",
     "output_type": "stream",
     "text": [
      "addition of 2 and 4 is 6\n"
     ]
    }
   ],
   "source": [
    "def add(a,b):\n",
    "    return a+b\n",
    "def multiply(a,b):\n",
    "    return a*b\n",
    "def substact(a,b):\n",
    "    return a-b\n",
    "def division(a,b):\n",
    "    return a/b\n",
    "print(\"select option\")\n",
    "print(\"1. addition\")\n",
    "print(\"2. substraction\")\n",
    "print(\"3. multiplication\")\n",
    "print(\"4. Division\")\n",
    "\n",
    "#take input from user\n",
    "choice=int(input(\"enter choice 1/2/3/4: \"))\n",
    "\n",
    "num1 = int(input(\"enter first number: \"))\n",
    "num2 = int(input(\"enter second number: \"))\n",
    "if choice==1:\n",
    "    print(\"addition of {} and {} is {}\".format(num1,num2,add(num1,num2)))\n",
    "elif choice==2:\n",
    "    print(\"subtraction of {} and {} is {}\".format(num1,num2,subtract(num1,num2)))\n",
    "elif choice==3:\n",
    "    print(\"muliplication of {} and {} is {}\".format(num1,num2,multiply(num1,num2)))\n",
    "elif choice==4:\n",
    "    print(\"division of {} and {} is {}\".format(num1,num2,division(num1,num2)))\n",
    "else:\n",
    "    print(\"invalid choice\")"
   ]
  },
  {
   "cell_type": "code",
   "execution_count": null,
   "id": "6cb23da3-6fad-4669-b25c-91cb82814faa",
   "metadata": {},
   "outputs": [],
   "source": []
  }
 ],
 "metadata": {
  "kernelspec": {
   "display_name": "Python 3 (ipykernel)",
   "language": "python",
   "name": "python3"
  },
  "language_info": {
   "codemirror_mode": {
    "name": "ipython",
    "version": 3
   },
   "file_extension": ".py",
   "mimetype": "text/x-python",
   "name": "python",
   "nbconvert_exporter": "python",
   "pygments_lexer": "ipython3",
   "version": "3.11.7"
  }
 },
 "nbformat": 4,
 "nbformat_minor": 5
}
